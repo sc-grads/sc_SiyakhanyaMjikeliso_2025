{
 "cells": [
  {
   "cell_type": "markdown",
   "id": "19454d1a",
   "metadata": {},
   "source": [
    "DICTIIONARIES"
   ]
  },
  {
   "cell_type": "code",
   "execution_count": 1,
   "id": "45eaca00",
   "metadata": {},
   "outputs": [],
   "source": [
    "d = {'key1':'value',\"key2\":123}"
   ]
  },
  {
   "cell_type": "code",
   "execution_count": 2,
   "id": "d577a9ad",
   "metadata": {},
   "outputs": [
    {
     "data": {
      "text/plain": [
       "'value'"
      ]
     },
     "execution_count": 2,
     "metadata": {},
     "output_type": "execute_result"
    }
   ],
   "source": [
    "d['key1']"
   ]
  },
  {
   "cell_type": "code",
   "execution_count": 3,
   "id": "78fb4726",
   "metadata": {},
   "outputs": [
    {
     "data": {
      "text/plain": [
       "123"
      ]
     },
     "execution_count": 3,
     "metadata": {},
     "output_type": "execute_result"
    }
   ],
   "source": [
    "d['key2']"
   ]
  },
  {
   "cell_type": "code",
   "execution_count": 4,
   "id": "8220fe04",
   "metadata": {},
   "outputs": [],
   "source": [
    "d = {'k1': [1,2,3]}"
   ]
  },
  {
   "cell_type": "code",
   "execution_count": 5,
   "id": "ca7b6a3f",
   "metadata": {},
   "outputs": [
    {
     "data": {
      "text/plain": [
       "{'k1': [1, 2, 3]}"
      ]
     },
     "execution_count": 5,
     "metadata": {},
     "output_type": "execute_result"
    }
   ],
   "source": [
    "d"
   ]
  },
  {
   "cell_type": "code",
   "execution_count": 6,
   "id": "caea0541",
   "metadata": {},
   "outputs": [
    {
     "data": {
      "text/plain": [
       "1"
      ]
     },
     "execution_count": 6,
     "metadata": {},
     "output_type": "execute_result"
    }
   ],
   "source": [
    "d['k1'][0]"
   ]
  },
  {
   "cell_type": "code",
   "execution_count": 7,
   "id": "c723653f",
   "metadata": {},
   "outputs": [],
   "source": [
    "d= {'k1':{'inerkey':[1,2,3]}}"
   ]
  },
  {
   "cell_type": "code",
   "execution_count": 8,
   "id": "07322120",
   "metadata": {},
   "outputs": [
    {
     "data": {
      "text/plain": [
       "1"
      ]
     },
     "execution_count": 8,
     "metadata": {},
     "output_type": "execute_result"
    }
   ],
   "source": [
    "d['k1']['inerkey'][0]"
   ]
  },
  {
   "cell_type": "code",
   "execution_count": 10,
   "id": "c302124a",
   "metadata": {},
   "outputs": [],
   "source": [
    "# Booolean"
   ]
  },
  {
   "cell_type": "markdown",
   "id": "3289b5b9",
   "metadata": {},
   "source": []
  },
  {
   "cell_type": "code",
   "execution_count": 11,
   "id": "63dc51db",
   "metadata": {},
   "outputs": [
    {
     "data": {
      "text/plain": [
       "True"
      ]
     },
     "execution_count": 11,
     "metadata": {},
     "output_type": "execute_result"
    }
   ],
   "source": [
    "True"
   ]
  },
  {
   "cell_type": "code",
   "execution_count": 12,
   "id": "7114c9ec",
   "metadata": {},
   "outputs": [
    {
     "data": {
      "text/plain": [
       "False"
      ]
     },
     "execution_count": 12,
     "metadata": {},
     "output_type": "execute_result"
    }
   ],
   "source": [
    "False"
   ]
  },
  {
   "cell_type": "markdown",
   "id": "541a3a19",
   "metadata": {},
   "source": [
    "Tuples and Sets"
   ]
  },
  {
   "cell_type": "markdown",
   "id": "1b306493",
   "metadata": {},
   "source": []
  },
  {
   "cell_type": "code",
   "execution_count": 13,
   "id": "3e6d50d7",
   "metadata": {},
   "outputs": [],
   "source": [
    "my_list = [1,2,2]"
   ]
  },
  {
   "cell_type": "code",
   "execution_count": 14,
   "id": "e12c28ab",
   "metadata": {},
   "outputs": [
    {
     "data": {
      "text/plain": [
       "1"
      ]
     },
     "execution_count": 14,
     "metadata": {},
     "output_type": "execute_result"
    }
   ],
   "source": [
    "my_list[0]"
   ]
  },
  {
   "cell_type": "code",
   "execution_count": 15,
   "id": "3d58f56e",
   "metadata": {},
   "outputs": [],
   "source": [
    "t = (1,2,3)"
   ]
  },
  {
   "cell_type": "code",
   "execution_count": 16,
   "id": "c6d7dd91",
   "metadata": {},
   "outputs": [
    {
     "data": {
      "text/plain": [
       "1"
      ]
     },
     "execution_count": 16,
     "metadata": {},
     "output_type": "execute_result"
    }
   ],
   "source": [
    "t[0]"
   ]
  },
  {
   "cell_type": "code",
   "execution_count": 18,
   "id": "0a6c8551",
   "metadata": {},
   "outputs": [
    {
     "data": {
      "text/plain": [
       "{1, 2, 3}"
      ]
     },
     "execution_count": 18,
     "metadata": {},
     "output_type": "execute_result"
    }
   ],
   "source": [
    "#Sets\n",
    "{1,1,2,3}"
   ]
  },
  {
   "cell_type": "code",
   "execution_count": 20,
   "id": "f7bdcfbc",
   "metadata": {},
   "outputs": [],
   "source": [
    "s= {1,2,3,2}"
   ]
  },
  {
   "cell_type": "code",
   "execution_count": 21,
   "id": "0ab631de",
   "metadata": {},
   "outputs": [
    {
     "data": {
      "text/plain": [
       "{1, 2, 3}"
      ]
     },
     "execution_count": 21,
     "metadata": {},
     "output_type": "execute_result"
    }
   ],
   "source": [
    "s"
   ]
  },
  {
   "cell_type": "code",
   "execution_count": 22,
   "id": "e159ad5c",
   "metadata": {},
   "outputs": [],
   "source": [
    "s.add(5)"
   ]
  },
  {
   "cell_type": "code",
   "execution_count": 23,
   "id": "9d727f82",
   "metadata": {},
   "outputs": [
    {
     "data": {
      "text/plain": [
       "{1, 2, 3, 5}"
      ]
     },
     "execution_count": 23,
     "metadata": {},
     "output_type": "execute_result"
    }
   ],
   "source": [
    "s"
   ]
  },
  {
   "cell_type": "code",
   "execution_count": 24,
   "id": "3cff7634",
   "metadata": {},
   "outputs": [
    {
     "data": {
      "text/plain": [
       "False"
      ]
     },
     "execution_count": 24,
     "metadata": {},
     "output_type": "execute_result"
    }
   ],
   "source": [
    "#Comparing operators\n",
    "1 > 2"
   ]
  },
  {
   "cell_type": "code",
   "execution_count": 25,
   "id": "cbb07a32",
   "metadata": {},
   "outputs": [
    {
     "data": {
      "text/plain": [
       "True"
      ]
     },
     "execution_count": 25,
     "metadata": {},
     "output_type": "execute_result"
    }
   ],
   "source": [
    "1 < 2"
   ]
  },
  {
   "cell_type": "code",
   "execution_count": 26,
   "id": "db7c5028",
   "metadata": {},
   "outputs": [
    {
     "data": {
      "text/plain": [
       "True"
      ]
     },
     "execution_count": 26,
     "metadata": {},
     "output_type": "execute_result"
    }
   ],
   "source": [
    "1<=2"
   ]
  },
  {
   "cell_type": "code",
   "execution_count": 27,
   "id": "c5454a01",
   "metadata": {},
   "outputs": [
    {
     "data": {
      "text/plain": [
       "False"
      ]
     },
     "execution_count": 27,
     "metadata": {},
     "output_type": "execute_result"
    }
   ],
   "source": [
    "1 == 2"
   ]
  },
  {
   "cell_type": "code",
   "execution_count": 28,
   "id": "31ee7ad6",
   "metadata": {},
   "outputs": [
    {
     "data": {
      "text/plain": [
       "True"
      ]
     },
     "execution_count": 28,
     "metadata": {},
     "output_type": "execute_result"
    }
   ],
   "source": [
    "1 !=3"
   ]
  },
  {
   "cell_type": "code",
   "execution_count": 30,
   "id": "b8e2d001",
   "metadata": {},
   "outputs": [
    {
     "data": {
      "text/plain": [
       "True"
      ]
     },
     "execution_count": 30,
     "metadata": {},
     "output_type": "execute_result"
    }
   ],
   "source": [
    "'hi'=='hi'"
   ]
  },
  {
   "cell_type": "code",
   "execution_count": null,
   "id": "ae51648c",
   "metadata": {},
   "outputs": [
    {
     "data": {
      "text/plain": [
       "False"
      ]
     },
     "execution_count": 31,
     "metadata": {},
     "output_type": "execute_result"
    }
   ],
   "source": [
    "(1<2) and (2>3)"
   ]
  },
  {
   "cell_type": "code",
   "execution_count": 32,
   "id": "880a1f39",
   "metadata": {},
   "outputs": [
    {
     "data": {
      "text/plain": [
       "True"
      ]
     },
     "execution_count": 32,
     "metadata": {},
     "output_type": "execute_result"
    }
   ],
   "source": [
    "(1<2) or (2>3)"
   ]
  },
  {
   "cell_type": "code",
   "execution_count": 34,
   "id": "2856c9f8",
   "metadata": {},
   "outputs": [
    {
     "name": "stdout",
     "output_type": "stream",
     "text": [
      "Ype!\n"
     ]
    }
   ],
   "source": [
    "#Conditional statements\n",
    "if 1<2:\n",
    "    print(\"Ype!\")\n"
   ]
  },
  {
   "cell_type": "code",
   "execution_count": 37,
   "id": "ebd746a8",
   "metadata": {},
   "outputs": [
    {
     "name": "stdout",
     "output_type": "stream",
     "text": [
      "Second\n"
     ]
    }
   ],
   "source": [
    "if 1 == 2 : \n",
    "    print(\"First\")\n",
    "elif 4==4:\n",
    "    print ('Second')\n",
    "else:\n",
    "    print('last')"
   ]
  },
  {
   "cell_type": "code",
   "execution_count": null,
   "id": "a27e3cc4",
   "metadata": {},
   "outputs": [],
   "source": []
  }
 ],
 "metadata": {
  "kernelspec": {
   "display_name": "Python 3",
   "language": "python",
   "name": "python3"
  },
  "language_info": {
   "codemirror_mode": {
    "name": "ipython",
    "version": 3
   },
   "file_extension": ".py",
   "mimetype": "text/x-python",
   "name": "python",
   "nbconvert_exporter": "python",
   "pygments_lexer": "ipython3",
   "version": "3.13.2"
  }
 },
 "nbformat": 4,
 "nbformat_minor": 5
}

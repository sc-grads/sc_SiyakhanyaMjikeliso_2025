{
 "cells": [
  {
   "cell_type": "markdown",
   "id": "bf324023",
   "metadata": {},
   "source": [
    "Pandas - DataFrames"
   ]
  },
  {
   "cell_type": "code",
   "execution_count": null,
   "id": "d6206bff",
   "metadata": {},
   "outputs": [],
   "source": []
  }
 ],
 "metadata": {
  "language_info": {
   "name": "python"
  }
 },
 "nbformat": 4,
 "nbformat_minor": 5
}
